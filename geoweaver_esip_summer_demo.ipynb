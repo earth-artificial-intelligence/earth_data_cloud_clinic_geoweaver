{
 "cells": [
  {
   "cell_type": "code",
   "execution_count": 1,
   "id": "4385fdea-2e9e-408c-8a9d-aa74aa43fc74",
   "metadata": {
    "tags": []
   },
   "outputs": [
    {
     "name": "stdout",
     "output_type": "stream",
     "text": [
      "Requirement already satisfied: pygeoweaver in /Users/l21-n02609-comm/opt/anaconda3/lib/python3.9/site-packages (0.7.5)\n",
      "Requirement already satisfied: pydantic==1.10.9 in /Users/l21-n02609-comm/opt/anaconda3/lib/python3.9/site-packages (from pygeoweaver) (1.10.9)\n",
      "Requirement already satisfied: setuptools>=61.0 in /Users/l21-n02609-comm/opt/anaconda3/lib/python3.9/site-packages (from pygeoweaver) (68.0.0)\n",
      "Requirement already satisfied: ipython==8.14.0 in /Users/l21-n02609-comm/opt/anaconda3/lib/python3.9/site-packages (from pygeoweaver) (8.14.0)\n",
      "Requirement already satisfied: pandas==2.0.2 in /Users/l21-n02609-comm/opt/anaconda3/lib/python3.9/site-packages (from pygeoweaver) (2.0.2)\n",
      "Requirement already satisfied: requests==2.28.2 in /Users/l21-n02609-comm/opt/anaconda3/lib/python3.9/site-packages (from pygeoweaver) (2.28.2)\n",
      "Requirement already satisfied: traitlets>=5 in /Users/l21-n02609-comm/opt/anaconda3/lib/python3.9/site-packages (from ipython==8.14.0->pygeoweaver) (5.9.0)\n",
      "Requirement already satisfied: appnope in /Users/l21-n02609-comm/opt/anaconda3/lib/python3.9/site-packages (from ipython==8.14.0->pygeoweaver) (0.1.3)\n",
      "Requirement already satisfied: jedi>=0.16 in /Users/l21-n02609-comm/opt/anaconda3/lib/python3.9/site-packages (from ipython==8.14.0->pygeoweaver) (0.18.2)\n",
      "Requirement already satisfied: pexpect>4.3 in /Users/l21-n02609-comm/opt/anaconda3/lib/python3.9/site-packages (from ipython==8.14.0->pygeoweaver) (4.8.0)\n",
      "Requirement already satisfied: decorator in /Users/l21-n02609-comm/opt/anaconda3/lib/python3.9/site-packages (from ipython==8.14.0->pygeoweaver) (5.1.1)\n",
      "Requirement already satisfied: stack-data in /Users/l21-n02609-comm/opt/anaconda3/lib/python3.9/site-packages (from ipython==8.14.0->pygeoweaver) (0.6.2)\n",
      "Requirement already satisfied: typing-extensions in /Users/l21-n02609-comm/opt/anaconda3/lib/python3.9/site-packages (from ipython==8.14.0->pygeoweaver) (4.6.3)\n",
      "Requirement already satisfied: pygments>=2.4.0 in /Users/l21-n02609-comm/opt/anaconda3/lib/python3.9/site-packages (from ipython==8.14.0->pygeoweaver) (2.15.1)\n",
      "Requirement already satisfied: prompt-toolkit!=3.0.37,<3.1.0,>=3.0.30 in /Users/l21-n02609-comm/opt/anaconda3/lib/python3.9/site-packages (from ipython==8.14.0->pygeoweaver) (3.0.38)\n",
      "Requirement already satisfied: backcall in /Users/l21-n02609-comm/opt/anaconda3/lib/python3.9/site-packages (from ipython==8.14.0->pygeoweaver) (0.2.0)\n",
      "Requirement already satisfied: pickleshare in /Users/l21-n02609-comm/opt/anaconda3/lib/python3.9/site-packages (from ipython==8.14.0->pygeoweaver) (0.7.5)\n",
      "Requirement already satisfied: matplotlib-inline in /Users/l21-n02609-comm/opt/anaconda3/lib/python3.9/site-packages (from ipython==8.14.0->pygeoweaver) (0.1.6)\n",
      "Requirement already satisfied: numpy>=1.20.3 in /Users/l21-n02609-comm/opt/anaconda3/lib/python3.9/site-packages (from pandas==2.0.2->pygeoweaver) (1.25.1)\n",
      "Requirement already satisfied: tzdata>=2022.1 in /Users/l21-n02609-comm/opt/anaconda3/lib/python3.9/site-packages (from pandas==2.0.2->pygeoweaver) (2023.3)\n",
      "Requirement already satisfied: python-dateutil>=2.8.2 in /Users/l21-n02609-comm/opt/anaconda3/lib/python3.9/site-packages (from pandas==2.0.2->pygeoweaver) (2.8.2)\n",
      "Requirement already satisfied: pytz>=2020.1 in /Users/l21-n02609-comm/opt/anaconda3/lib/python3.9/site-packages (from pandas==2.0.2->pygeoweaver) (2023.3)\n",
      "Requirement already satisfied: urllib3<1.27,>=1.21.1 in /Users/l21-n02609-comm/opt/anaconda3/lib/python3.9/site-packages (from requests==2.28.2->pygeoweaver) (1.26.16)\n",
      "Requirement already satisfied: charset-normalizer<4,>=2 in /Users/l21-n02609-comm/opt/anaconda3/lib/python3.9/site-packages (from requests==2.28.2->pygeoweaver) (3.1.0)\n",
      "Requirement already satisfied: idna<4,>=2.5 in /Users/l21-n02609-comm/opt/anaconda3/lib/python3.9/site-packages (from requests==2.28.2->pygeoweaver) (3.4)\n",
      "Requirement already satisfied: certifi>=2017.4.17 in /Users/l21-n02609-comm/opt/anaconda3/lib/python3.9/site-packages (from requests==2.28.2->pygeoweaver) (2023.5.7)\n",
      "Requirement already satisfied: parso<0.9.0,>=0.8.0 in /Users/l21-n02609-comm/opt/anaconda3/lib/python3.9/site-packages (from jedi>=0.16->ipython==8.14.0->pygeoweaver) (0.8.3)\n",
      "Requirement already satisfied: ptyprocess>=0.5 in /Users/l21-n02609-comm/opt/anaconda3/lib/python3.9/site-packages (from pexpect>4.3->ipython==8.14.0->pygeoweaver) (0.7.0)\n",
      "Requirement already satisfied: wcwidth in /Users/l21-n02609-comm/opt/anaconda3/lib/python3.9/site-packages (from prompt-toolkit!=3.0.37,<3.1.0,>=3.0.30->ipython==8.14.0->pygeoweaver) (0.2.6)\n",
      "Requirement already satisfied: six>=1.5 in /Users/l21-n02609-comm/opt/anaconda3/lib/python3.9/site-packages (from python-dateutil>=2.8.2->pandas==2.0.2->pygeoweaver) (1.16.0)\n",
      "Requirement already satisfied: asttokens>=2.1.0 in /Users/l21-n02609-comm/opt/anaconda3/lib/python3.9/site-packages (from stack-data->ipython==8.14.0->pygeoweaver) (2.2.1)\n",
      "Requirement already satisfied: pure-eval in /Users/l21-n02609-comm/opt/anaconda3/lib/python3.9/site-packages (from stack-data->ipython==8.14.0->pygeoweaver) (0.2.2)\n",
      "Requirement already satisfied: executing>=1.2.0 in /Users/l21-n02609-comm/opt/anaconda3/lib/python3.9/site-packages (from stack-data->ipython==8.14.0->pygeoweaver) (1.2.0)\n"
     ]
    }
   ],
   "source": [
    "!pip install pygeoweaver"
   ]
  },
  {
   "cell_type": "code",
   "execution_count": 2,
   "id": "9a03397b-f901-49bf-a905-62717a0f24e5",
   "metadata": {
    "tags": []
   },
   "outputs": [
    {
     "name": "stdout",
     "output_type": "stream",
     "text": [
      "Stop running Geoweaver if any..\n",
      "Check Java..\n",
      "Start Geoweaver..\n",
      "GeoWeaver is started and ready for use..\n",
      "URL: http://localhost:8070/Geoweaver\n",
      "Success: Geoweaver is up\n"
     ]
    }
   ],
   "source": [
    "import pygeoweaver\n",
    "pygeoweaver.start()"
   ]
  },
  {
   "cell_type": "code",
   "execution_count": 4,
   "id": "d44b6c4f-c766-42be-ad0c-441f38000c42",
   "metadata": {
    "tags": []
   },
   "outputs": [
    {
     "name": "stdout",
     "output_type": "stream",
     "text": [
      "+---------+------------------+-----------------+------+------------+\n",
      "| Host Id | Hostname         | IP              | Port | Username   |\n",
      "+---------+------------------+-----------------+------+------------+\n",
      "| 100001  | Localhost        | 127.0.0.1       | 24   | publicuser |\n",
      "| je29f6  | dss              | 129.174.131.6   | 22   | zsun       |\n",
      "| aqt8fv  | Hopper           | 129.174.21.177  | 22   | zsun       |\n",
      "| u1fzqq  | some_nasa_hpc    | 1.1.1.1         | 22   | sun        |\n",
      "| w2bq4j  | geobrain         | 129.174.131.229 | 22   | chetana    |\n",
      "| 5zv793  | our lab server   | 129.174.131.229 | 22   | zsun       |\n",
      "| dphtvj  | new ec2 instance | 129.174.131.229 | 22   | zsun       |\n",
      "+---------+------------------+-----------------+------+------------+\n"
     ]
    }
   ],
   "source": [
    "pygeoweaver.list_hosts()"
   ]
  }
 ],
 "metadata": {
  "kernelspec": {
   "display_name": "Python 3 (ipykernel)",
   "language": "python",
   "name": "python3"
  },
  "language_info": {
   "codemirror_mode": {
    "name": "ipython",
    "version": 3
   },
   "file_extension": ".py",
   "mimetype": "text/x-python",
   "name": "python",
   "nbconvert_exporter": "python",
   "pygments_lexer": "ipython3",
   "version": "3.9.7"
  }
 },
 "nbformat": 4,
 "nbformat_minor": 5
}

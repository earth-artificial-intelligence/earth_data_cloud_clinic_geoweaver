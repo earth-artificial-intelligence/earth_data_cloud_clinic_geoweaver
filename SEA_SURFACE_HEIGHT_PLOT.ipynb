{
 "cells": [
  {
   "cell_type": "code",
   "execution_count": null,
   "id": "9bc56f4f-544d-4993-8f3c-ebd1004b36ff",
   "metadata": {},
   "outputs": [],
   "source": [
    "import earthaccess\n",
    "import xarray as xr\n",
    "import matplotlib as mpl\n",
    "import matplotlib.pyplot as plt\n",
    "\n",
    "years = ['1993', '2000', '2010', '2022']\n",
    "\n",
    "auth = earthaccess.login()\n",
    "# Are we authenticated?\n",
    "if not auth.authenticated:\n",
    "    # Ask for credentials and persist them in a .netrc file\n",
    "    auth.login(strategy=\"interactive\", persist=True)\n",
    "\n",
    "mpl.rcParams.update({'font.size': 24})\n",
    "\n",
    "for year in years:\n",
    "    granules = earthaccess.granule_query().short_name(\"SEA_SURFACE_HEIGHT_ALT_GRIDS_L4_2SATS_5DAY_6THDEG_V_JPL2205\").temporal(f\"{year}-01\", f\"{year}-2\").get()\n",
    "    ds = xr.open_mfdataset(earthaccess.open(granules), chunks={})\n",
    "    plot = ds.SLA.where((ds.SLA >= 0) & (ds.SLA < 10)).std('Time').plot(figsize=(12, 6), x='Longitude', y='Latitude', cmap='viridis')\n",
    "    plt.title(f\"Year - {year}\")\n",
    "    plt.show()\n"
   ]
  }
 ],
 "metadata": {
  "kernelspec": {
   "display_name": "Python 3 (ipykernel)",
   "language": "python",
   "name": "python3"
  },
  "language_info": {
   "codemirror_mode": {
    "name": "ipython",
    "version": 3
   },
   "file_extension": ".py",
   "mimetype": "text/x-python",
   "name": "python",
   "nbconvert_exporter": "python",
   "pygments_lexer": "ipython3",
   "version": "3.9.16"
  }
 },
 "nbformat": 4,
 "nbformat_minor": 5
}
